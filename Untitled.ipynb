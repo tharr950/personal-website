{
 "cells": [
  {
   "cell_type": "code",
   "execution_count": 1,
   "metadata": {},
   "outputs": [
    {
     "name": "stdout",
     "output_type": "stream",
     "text": [
      "Requirement already satisfied: flask in /Users/tyler_harrington2/opt/anaconda3/lib/python3.7/site-packages (1.1.1)\n",
      "Requirement already satisfied: click>=5.1 in /Users/tyler_harrington2/opt/anaconda3/lib/python3.7/site-packages (from flask) (7.0)\n",
      "Requirement already satisfied: Werkzeug>=0.15 in /Users/tyler_harrington2/opt/anaconda3/lib/python3.7/site-packages (from flask) (2.2.3)\n",
      "Requirement already satisfied: itsdangerous>=0.24 in /Users/tyler_harrington2/opt/anaconda3/lib/python3.7/site-packages (from flask) (1.1.0)\n",
      "Requirement already satisfied: Jinja2>=2.10.1 in /Users/tyler_harrington2/opt/anaconda3/lib/python3.7/site-packages (from flask) (3.0.3)\n",
      "Collecting MarkupSafe>=2.1.1 (from Werkzeug>=0.15->flask)\n",
      "  Using cached https://files.pythonhosted.org/packages/a7/88/a940e11827ea1c136a34eca862486178294ae841164475b9ab216b80eb8e/MarkupSafe-2.1.5-cp37-cp37m-macosx_10_9_x86_64.whl\n",
      "Installing collected packages: MarkupSafe\n",
      "  Found existing installation: MarkupSafe 2.0.1\n",
      "    Uninstalling MarkupSafe-2.0.1:\n",
      "      Successfully uninstalled MarkupSafe-2.0.1\n",
      "Successfully installed MarkupSafe-2.1.5\n"
     ]
    }
   ],
   "source": [
    "!pip install flask"
   ]
  },
  {
   "cell_type": "code",
   "execution_count": null,
   "metadata": {},
   "outputs": [],
   "source": []
  }
 ],
 "metadata": {
  "kernelspec": {
   "display_name": "Python 3",
   "language": "python",
   "name": "python3"
  },
  "language_info": {
   "codemirror_mode": {
    "name": "ipython",
    "version": 3
   },
   "file_extension": ".py",
   "mimetype": "text/x-python",
   "name": "python",
   "nbconvert_exporter": "python",
   "pygments_lexer": "ipython3",
   "version": "3.7.4"
  }
 },
 "nbformat": 4,
 "nbformat_minor": 2
}
